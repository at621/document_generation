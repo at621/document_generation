{
 "cells": [
  {
   "cell_type": "code",
   "execution_count": null,
   "id": "747b869d-d0a5-4fa1-88bb-1ea5621ab293",
   "metadata": {},
   "outputs": [],
   "source": []
  },
  {
   "cell_type": "code",
   "execution_count": null,
   "id": "2e9deb5a-76b8-4760-ab60-a9d7743a37d2",
   "metadata": {},
   "outputs": [],
   "source": []
  },
  {
   "cell_type": "code",
   "execution_count": 5,
   "id": "567067e8-60e3-4541-b99d-a949f1c0dcbf",
   "metadata": {},
   "outputs": [
    {
     "name": "stdout",
     "output_type": "stream",
     "text": [
      "Loading data from '../data/knowledge_base/additional_sources_ifrs.xlsx'...\n",
      "Successfully loaded 52 rows.\n"
     ]
    },
    {
     "data": {
      "application/vnd.jupyter.widget-view+json": {
       "model_id": "2faeaf7c9974485884884c1fd15a5700",
       "version_major": 2,
       "version_minor": 0
      },
      "text/plain": [
       "Generating text-embedding-3-large embeddings:   0%|          | 0/52 [00:00<?, ?it/s]"
      ]
     },
     "metadata": {},
     "output_type": "display_data"
    },
    {
     "name": "stdout",
     "output_type": "stream",
     "text": [
      "\n",
      "Successfully processed 52 rows.\n",
      "DataFrame with embeddings saved to 'ifrs_knowledge_base_with_embeddings.parquet'.\n"
     ]
    }
   ],
   "source": [
    "import pandas as pd\n",
    "import openai\n",
    "import os\n",
    "from tqdm.auto import tqdm\n",
    "\n",
    "client = openai.OpenAI()\n",
    "\n",
    "# Embedding model configuration\n",
    "EMBEDDING_MODEL = \"text-embedding-3-large\"\n",
    "EMBEDDING_DIMENSIONS = 3072\n",
    "\n",
    "# --- 2. Load Data From Excel File ---\n",
    "file_path = '../data/knowledge_base/additional_sources_ifrs.xlsx'\n",
    "\n",
    "try:\n",
    "    print(f\"Loading data from '{file_path}'...\")\n",
    "    df = pd.read_excel(file_path, engine='openpyxl', sheet_name='Summary')\n",
    "    print(f\"Successfully loaded {len(df)} rows.\")\n",
    "except Exception as e:\n",
    "    print(f\"An error occurred while reading the Excel file: {e}\")\n",
    "    exit()\n",
    "\n",
    "# --- 3. Define Embedding Function ---\n",
    "def get_embedding(text: str, model: str, dimensions: int) -> list[float]:\n",
    "    \"\"\"Generates an embedding vector for a given text using the OpenAI API.\"\"\"\n",
    "    try:\n",
    "        # Ensure text is a non-empty string\n",
    "        text = str(text).strip()\n",
    "        if not text:\n",
    "            return []\n",
    "        response = client.embeddings.create(input=[text], model=model, dimensions=dimensions)\n",
    "        return response.data[0].embedding\n",
    "    except Exception as e:\n",
    "        print(f\"An error occurred while getting embedding: {e}\")\n",
    "        return [] # Return an empty list to avoid breaking the process\n",
    "\n",
    "\n",
    "# --- 4. Process DataFrame ---\n",
    "# Combine relevant columns into a single text field for better contextual embedding\n",
    "df['combined_text'] = df.apply(\n",
    "    lambda row: f\"Source: {row['Source']}\\nLabel: {row['Label']}\\n\\n{row['Main text']}\",\n",
    "    axis=1\n",
    ")\n",
    "\n",
    "# Truncate to the first 5000 characters to manage cost and token limits\n",
    "df['truncated_text'] = df['combined_text'].str[:5000]\n",
    "\n",
    "# Generate embeddings with a progress bar\n",
    "tqdm.pandas(desc=f\"Generating {EMBEDDING_MODEL} embeddings\")\n",
    "df['embedding'] = df['truncated_text'].progress_apply(\n",
    "    lambda text: get_embedding(text, model=EMBEDDING_MODEL, dimensions=EMBEDDING_DIMENSIONS)\n",
    ")\n",
    "\n",
    "# --- 5. Save to Parquet File ---\n",
    "# Remove intermediate helper columns before saving\n",
    "cols = ['combined_text', 'embedding']\n",
    "# Define a descriptive output filename and save the result\n",
    "output_filename = 'ifrs_knowledge_base_with_embeddings.parquet'\n",
    "df[cols].to_parquet(output_filename, engine='pyarrow')\n",
    "\n",
    "print(f\"\\nSuccessfully processed {len(df)} rows.\")\n",
    "print(f\"DataFrame with embeddings saved to '{output_filename}'.\")"
   ]
  }
 ],
 "metadata": {
  "kernelspec": {
   "display_name": "Python 3 (ipykernel)",
   "language": "python",
   "name": "python3"
  },
  "language_info": {
   "codemirror_mode": {
    "name": "ipython",
    "version": 3
   },
   "file_extension": ".py",
   "mimetype": "text/x-python",
   "name": "python",
   "nbconvert_exporter": "python",
   "pygments_lexer": "ipython3",
   "version": "3.13.1"
  }
 },
 "nbformat": 4,
 "nbformat_minor": 5
}
